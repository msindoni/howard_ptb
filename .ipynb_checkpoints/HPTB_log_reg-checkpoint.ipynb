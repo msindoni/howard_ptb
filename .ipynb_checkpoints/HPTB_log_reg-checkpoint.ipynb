{
 "cells": [
  {
   "cell_type": "code",
   "execution_count": 1,
   "id": "822ea7c1",
   "metadata": {},
   "outputs": [],
   "source": [
    "import pandas as pd\n",
    "import numpy as np\n",
    "from sklearn.linear_model import LogisticRegression\n",
    "from sklearn.model_selection import train_test_split\n",
    "from sklearn.preprocessing import OneHotEncoder\n",
    "from sklearn import metrics"
   ]
  },
  {
   "cell_type": "code",
   "execution_count": 2,
   "id": "e0b8a67f",
   "metadata": {},
   "outputs": [],
   "source": [
    "df = pd.read_csv('basic_LogReg_test_data2.csv')"
   ]
  },
  {
   "cell_type": "code",
   "execution_count": 3,
   "id": "605466c9",
   "metadata": {},
   "outputs": [],
   "source": [
    "# # Initialize the one-hot encoder\n",
    "# enc = OneHotEncoder()\n",
    "\n",
    "# # Fit the encoder to the categorical column\n",
    "# enc.fit(df[['future_opponent']])\n",
    "\n",
    "# # Transform the categorical column into one-hot encoded columns\n",
    "# one_hot_cols = enc.transform(df[['future_opponent']])\n",
    "\n",
    "# # Add the new columns to the dataframe\n",
    "# df = pd.concat([df, pd.DataFrame(one_hot_cols.toarray())], axis=1)\n",
    "\n",
    "# df = df.drop(['future_opponent'], axis = 1)"
   ]
  },
  {
   "cell_type": "code",
   "execution_count": 4,
   "id": "33959c6c",
   "metadata": {},
   "outputs": [],
   "source": [
    "# # Initialize the one-hot encoder\n",
    "# enc = OneHotEncoder()\n",
    "\n",
    "# # Fit the encoder to the categorical column\n",
    "# enc.fit(df[['day_of_week']])\n",
    "\n",
    "# # Transform the categorical column into one-hot encoded columns\n",
    "# one_hot_cols = enc.transform(df[['day_of_week']])\n",
    "\n",
    "# # Add the new columns to the dataframe\n",
    "# df = pd.concat([df, pd.DataFrame(one_hot_cols.toarray())], axis=1)\n",
    "\n",
    "# df = df.drop(['day_of_week'], axis = 1)"
   ]
  },
  {
   "cell_type": "code",
   "execution_count": 5,
   "id": "c9df8cfa",
   "metadata": {},
   "outputs": [],
   "source": [
    "X = df[df.columns[1:]]\n",
    "y = df['choice_week_before_game']"
   ]
  },
  {
   "cell_type": "code",
   "execution_count": 6,
   "id": "45a297a4",
   "metadata": {},
   "outputs": [
    {
     "data": {
      "text/html": [
       "<div>\n",
       "<style scoped>\n",
       "    .dataframe tbody tr th:only-of-type {\n",
       "        vertical-align: middle;\n",
       "    }\n",
       "\n",
       "    .dataframe tbody tr th {\n",
       "        vertical-align: top;\n",
       "    }\n",
       "\n",
       "    .dataframe thead th {\n",
       "        text-align: right;\n",
       "    }\n",
       "</style>\n",
       "<table border=\"1\" class=\"dataframe\">\n",
       "  <thead>\n",
       "    <tr style=\"text-align: right;\">\n",
       "      <th></th>\n",
       "      <th>choice_week_before_game</th>\n",
       "      <th>year</th>\n",
       "      <th>season_week</th>\n",
       "      <th>winning_percentage_going_in</th>\n",
       "      <th>opponent_winning_percentage_going_in</th>\n",
       "      <th>game_result</th>\n",
       "      <th>confidence_2weeks_before_game</th>\n",
       "      <th>confidence_value_week_before</th>\n",
       "      <th>confidence_value</th>\n",
       "    </tr>\n",
       "  </thead>\n",
       "  <tbody>\n",
       "    <tr>\n",
       "      <th>0</th>\n",
       "      <td>1</td>\n",
       "      <td>2021</td>\n",
       "      <td>1</td>\n",
       "      <td>0.00</td>\n",
       "      <td>0.00</td>\n",
       "      <td>2</td>\n",
       "      <td>0.500000</td>\n",
       "      <td>1.000000</td>\n",
       "      <td>1.500000</td>\n",
       "    </tr>\n",
       "    <tr>\n",
       "      <th>1</th>\n",
       "      <td>1</td>\n",
       "      <td>2021</td>\n",
       "      <td>2</td>\n",
       "      <td>0.00</td>\n",
       "      <td>1.00</td>\n",
       "      <td>1</td>\n",
       "      <td>1.000000</td>\n",
       "      <td>1.500000</td>\n",
       "      <td>2.000000</td>\n",
       "    </tr>\n",
       "    <tr>\n",
       "      <th>2</th>\n",
       "      <td>1</td>\n",
       "      <td>2021</td>\n",
       "      <td>3</td>\n",
       "      <td>0.50</td>\n",
       "      <td>0.50</td>\n",
       "      <td>1</td>\n",
       "      <td>1.500000</td>\n",
       "      <td>2.000000</td>\n",
       "      <td>2.500000</td>\n",
       "    </tr>\n",
       "    <tr>\n",
       "      <th>3</th>\n",
       "      <td>1</td>\n",
       "      <td>2021</td>\n",
       "      <td>4</td>\n",
       "      <td>0.67</td>\n",
       "      <td>0.33</td>\n",
       "      <td>1</td>\n",
       "      <td>2.000000</td>\n",
       "      <td>2.500000</td>\n",
       "      <td>3.000000</td>\n",
       "    </tr>\n",
       "    <tr>\n",
       "      <th>4</th>\n",
       "      <td>1</td>\n",
       "      <td>2021</td>\n",
       "      <td>5</td>\n",
       "      <td>0.75</td>\n",
       "      <td>0.50</td>\n",
       "      <td>1</td>\n",
       "      <td>-0.833333</td>\n",
       "      <td>0.142857</td>\n",
       "      <td>1.000000</td>\n",
       "    </tr>\n",
       "    <tr>\n",
       "      <th>5</th>\n",
       "      <td>1</td>\n",
       "      <td>2021</td>\n",
       "      <td>6</td>\n",
       "      <td>0.80</td>\n",
       "      <td>0.60</td>\n",
       "      <td>2</td>\n",
       "      <td>-0.428571</td>\n",
       "      <td>0.500000</td>\n",
       "      <td>1.333333</td>\n",
       "    </tr>\n",
       "    <tr>\n",
       "      <th>6</th>\n",
       "      <td>1</td>\n",
       "      <td>2021</td>\n",
       "      <td>8</td>\n",
       "      <td>0.67</td>\n",
       "      <td>0.14</td>\n",
       "      <td>1</td>\n",
       "      <td>3.500000</td>\n",
       "      <td>4.000000</td>\n",
       "      <td>4.500000</td>\n",
       "    </tr>\n",
       "    <tr>\n",
       "      <th>7</th>\n",
       "      <td>1</td>\n",
       "      <td>2021</td>\n",
       "      <td>9</td>\n",
       "      <td>0.71</td>\n",
       "      <td>0.14</td>\n",
       "      <td>2</td>\n",
       "      <td>4.000000</td>\n",
       "      <td>4.500000</td>\n",
       "      <td>5.000000</td>\n",
       "    </tr>\n",
       "    <tr>\n",
       "      <th>8</th>\n",
       "      <td>1</td>\n",
       "      <td>2021</td>\n",
       "      <td>10</td>\n",
       "      <td>0.63</td>\n",
       "      <td>0.25</td>\n",
       "      <td>1</td>\n",
       "      <td>4.500000</td>\n",
       "      <td>5.000000</td>\n",
       "      <td>5.500000</td>\n",
       "    </tr>\n",
       "    <tr>\n",
       "      <th>9</th>\n",
       "      <td>1</td>\n",
       "      <td>2021</td>\n",
       "      <td>11</td>\n",
       "      <td>0.67</td>\n",
       "      <td>0.50</td>\n",
       "      <td>2</td>\n",
       "      <td>5.000000</td>\n",
       "      <td>3.666667</td>\n",
       "      <td>4.307692</td>\n",
       "    </tr>\n",
       "    <tr>\n",
       "      <th>10</th>\n",
       "      <td>1</td>\n",
       "      <td>2021</td>\n",
       "      <td>12</td>\n",
       "      <td>0.60</td>\n",
       "      <td>0.50</td>\n",
       "      <td>1</td>\n",
       "      <td>3.333333</td>\n",
       "      <td>4.000000</td>\n",
       "      <td>4.642857</td>\n",
       "    </tr>\n",
       "    <tr>\n",
       "      <th>11</th>\n",
       "      <td>1</td>\n",
       "      <td>2021</td>\n",
       "      <td>13</td>\n",
       "      <td>0.64</td>\n",
       "      <td>0.67</td>\n",
       "      <td>2</td>\n",
       "      <td>5.692308</td>\n",
       "      <td>6.214286</td>\n",
       "      <td>6.733333</td>\n",
       "    </tr>\n",
       "    <tr>\n",
       "      <th>12</th>\n",
       "      <td>2</td>\n",
       "      <td>2021</td>\n",
       "      <td>14</td>\n",
       "      <td>0.58</td>\n",
       "      <td>0.75</td>\n",
       "      <td>2</td>\n",
       "      <td>-4.785714</td>\n",
       "      <td>-5.400000</td>\n",
       "      <td>-6.000000</td>\n",
       "    </tr>\n",
       "    <tr>\n",
       "      <th>13</th>\n",
       "      <td>1</td>\n",
       "      <td>2021</td>\n",
       "      <td>15</td>\n",
       "      <td>0.54</td>\n",
       "      <td>0.38</td>\n",
       "      <td>1</td>\n",
       "      <td>7.000000</td>\n",
       "      <td>7.500000</td>\n",
       "      <td>8.000000</td>\n",
       "    </tr>\n",
       "    <tr>\n",
       "      <th>14</th>\n",
       "      <td>2</td>\n",
       "      <td>2021</td>\n",
       "      <td>16</td>\n",
       "      <td>0.57</td>\n",
       "      <td>0.64</td>\n",
       "      <td>1</td>\n",
       "      <td>-0.600000</td>\n",
       "      <td>0.375000</td>\n",
       "      <td>1.294118</td>\n",
       "    </tr>\n",
       "    <tr>\n",
       "      <th>15</th>\n",
       "      <td>1</td>\n",
       "      <td>2021</td>\n",
       "      <td>17</td>\n",
       "      <td>0.60</td>\n",
       "      <td>0.47</td>\n",
       "      <td>1</td>\n",
       "      <td>7.500000</td>\n",
       "      <td>8.000000</td>\n",
       "      <td>8.500000</td>\n",
       "    </tr>\n",
       "    <tr>\n",
       "      <th>16</th>\n",
       "      <td>1</td>\n",
       "      <td>2021</td>\n",
       "      <td>18</td>\n",
       "      <td>0.63</td>\n",
       "      <td>0.25</td>\n",
       "      <td>1</td>\n",
       "      <td>8.000000</td>\n",
       "      <td>8.500000</td>\n",
       "      <td>9.000000</td>\n",
       "    </tr>\n",
       "  </tbody>\n",
       "</table>\n",
       "</div>"
      ],
      "text/plain": [
       "    choice_week_before_game  year  season_week  winning_percentage_going_in  \\\n",
       "0                         1  2021            1                         0.00   \n",
       "1                         1  2021            2                         0.00   \n",
       "2                         1  2021            3                         0.50   \n",
       "3                         1  2021            4                         0.67   \n",
       "4                         1  2021            5                         0.75   \n",
       "5                         1  2021            6                         0.80   \n",
       "6                         1  2021            8                         0.67   \n",
       "7                         1  2021            9                         0.71   \n",
       "8                         1  2021           10                         0.63   \n",
       "9                         1  2021           11                         0.67   \n",
       "10                        1  2021           12                         0.60   \n",
       "11                        1  2021           13                         0.64   \n",
       "12                        2  2021           14                         0.58   \n",
       "13                        1  2021           15                         0.54   \n",
       "14                        2  2021           16                         0.57   \n",
       "15                        1  2021           17                         0.60   \n",
       "16                        1  2021           18                         0.63   \n",
       "\n",
       "    opponent_winning_percentage_going_in  game_result  \\\n",
       "0                                   0.00            2   \n",
       "1                                   1.00            1   \n",
       "2                                   0.50            1   \n",
       "3                                   0.33            1   \n",
       "4                                   0.50            1   \n",
       "5                                   0.60            2   \n",
       "6                                   0.14            1   \n",
       "7                                   0.14            2   \n",
       "8                                   0.25            1   \n",
       "9                                   0.50            2   \n",
       "10                                  0.50            1   \n",
       "11                                  0.67            2   \n",
       "12                                  0.75            2   \n",
       "13                                  0.38            1   \n",
       "14                                  0.64            1   \n",
       "15                                  0.47            1   \n",
       "16                                  0.25            1   \n",
       "\n",
       "    confidence_2weeks_before_game  confidence_value_week_before  \\\n",
       "0                        0.500000                      1.000000   \n",
       "1                        1.000000                      1.500000   \n",
       "2                        1.500000                      2.000000   \n",
       "3                        2.000000                      2.500000   \n",
       "4                       -0.833333                      0.142857   \n",
       "5                       -0.428571                      0.500000   \n",
       "6                        3.500000                      4.000000   \n",
       "7                        4.000000                      4.500000   \n",
       "8                        4.500000                      5.000000   \n",
       "9                        5.000000                      3.666667   \n",
       "10                       3.333333                      4.000000   \n",
       "11                       5.692308                      6.214286   \n",
       "12                      -4.785714                     -5.400000   \n",
       "13                       7.000000                      7.500000   \n",
       "14                      -0.600000                      0.375000   \n",
       "15                       7.500000                      8.000000   \n",
       "16                       8.000000                      8.500000   \n",
       "\n",
       "    confidence_value  \n",
       "0           1.500000  \n",
       "1           2.000000  \n",
       "2           2.500000  \n",
       "3           3.000000  \n",
       "4           1.000000  \n",
       "5           1.333333  \n",
       "6           4.500000  \n",
       "7           5.000000  \n",
       "8           5.500000  \n",
       "9           4.307692  \n",
       "10          4.642857  \n",
       "11          6.733333  \n",
       "12         -6.000000  \n",
       "13          8.000000  \n",
       "14          1.294118  \n",
       "15          8.500000  \n",
       "16          9.000000  "
      ]
     },
     "execution_count": 6,
     "metadata": {},
     "output_type": "execute_result"
    }
   ],
   "source": [
    "df"
   ]
  },
  {
   "cell_type": "code",
   "execution_count": null,
   "id": "798bc1a5",
   "metadata": {},
   "outputs": [],
   "source": []
  },
  {
   "cell_type": "code",
   "execution_count": null,
   "id": "4571d96f",
   "metadata": {},
   "outputs": [],
   "source": []
  },
  {
   "cell_type": "code",
   "execution_count": null,
   "id": "e3f7f953",
   "metadata": {},
   "outputs": [],
   "source": []
  },
  {
   "cell_type": "code",
   "execution_count": null,
   "id": "c55235b5",
   "metadata": {},
   "outputs": [],
   "source": []
  },
  {
   "cell_type": "code",
   "execution_count": null,
   "id": "103cf485",
   "metadata": {},
   "outputs": [],
   "source": []
  },
  {
   "cell_type": "code",
   "execution_count": 7,
   "id": "d1941a14",
   "metadata": {},
   "outputs": [],
   "source": [
    "# Split the data into training and testing sets\n",
    "X_train, X_test, y_train, y_test = train_test_split(X, y, test_size=0.3)"
   ]
  },
  {
   "cell_type": "code",
   "execution_count": 8,
   "id": "4b7a09a9",
   "metadata": {},
   "outputs": [],
   "source": [
    "# Initialize the logistic regression model\n",
    "log_reg = LogisticRegression()"
   ]
  },
  {
   "cell_type": "code",
   "execution_count": 9,
   "id": "a09daa38",
   "metadata": {},
   "outputs": [
    {
     "data": {
      "text/plain": [
       "LogisticRegression()"
      ]
     },
     "execution_count": 9,
     "metadata": {},
     "output_type": "execute_result"
    }
   ],
   "source": [
    "# Fit the model to the training data\n",
    "log_reg.fit(X_train, y_train)"
   ]
  },
  {
   "cell_type": "code",
   "execution_count": 10,
   "id": "5bd7cbce",
   "metadata": {},
   "outputs": [],
   "source": [
    "# Get the coefficients for the independent variables\n",
    "coefficients = log_reg.coef_\n"
   ]
  },
  {
   "cell_type": "code",
   "execution_count": 11,
   "id": "4f82ed7e",
   "metadata": {},
   "outputs": [],
   "source": [
    "# Make predictions on the testing data\n",
    "y_pred = log_reg.predict(X_test)"
   ]
  },
  {
   "cell_type": "code",
   "execution_count": 12,
   "id": "1f811a5b",
   "metadata": {},
   "outputs": [
    {
     "name": "stdout",
     "output_type": "stream",
     "text": [
      "[[-0.00242741  0.24889461 -0.00034143  0.01252952  0.00775525 -0.23700073\n",
      "  -0.28201469 -0.3286533 ]]\n"
     ]
    }
   ],
   "source": [
    "# Print the coefficients\n",
    "print(coefficients)"
   ]
  },
  {
   "cell_type": "code",
   "execution_count": 13,
   "id": "90efbfd2",
   "metadata": {},
   "outputs": [
    {
     "name": "stdout",
     "output_type": "stream",
     "text": [
      "Accuracy: 0.8333333333333334\n"
     ]
    }
   ],
   "source": [
    "# Print the accuracy of the model\n",
    "accuracy = log_reg.score(X_test, y_test)\n",
    "print(\"Accuracy:\", accuracy)"
   ]
  },
  {
   "cell_type": "code",
   "execution_count": 14,
   "id": "7f22421a",
   "metadata": {},
   "outputs": [
    {
     "data": {
      "text/plain": [
       "array([[5, 0],\n",
       "       [1, 0]], dtype=int64)"
      ]
     },
     "execution_count": 14,
     "metadata": {},
     "output_type": "execute_result"
    }
   ],
   "source": [
    "cnf_matrix = metrics.confusion_matrix(y_test, y_pred)\n",
    "cnf_matrix"
   ]
  },
  {
   "cell_type": "code",
   "execution_count": null,
   "id": "31698534",
   "metadata": {},
   "outputs": [],
   "source": []
  },
  {
   "cell_type": "code",
   "execution_count": null,
   "id": "2892cfbd",
   "metadata": {},
   "outputs": [],
   "source": []
  },
  {
   "cell_type": "code",
   "execution_count": null,
   "id": "3fadae11",
   "metadata": {},
   "outputs": [],
   "source": []
  },
  {
   "cell_type": "code",
   "execution_count": null,
   "id": "49aa0785",
   "metadata": {},
   "outputs": [],
   "source": []
  },
  {
   "cell_type": "code",
   "execution_count": null,
   "id": "b324fb86",
   "metadata": {},
   "outputs": [],
   "source": []
  },
  {
   "cell_type": "code",
   "execution_count": null,
   "id": "c4d63ac1",
   "metadata": {},
   "outputs": [],
   "source": []
  },
  {
   "cell_type": "code",
   "execution_count": 15,
   "id": "7eda3bdf",
   "metadata": {},
   "outputs": [],
   "source": [
    "df2 = pd.read_csv('basic_LogReg_test_data2_test.csv')"
   ]
  },
  {
   "cell_type": "code",
   "execution_count": 16,
   "id": "51a21a49",
   "metadata": {},
   "outputs": [],
   "source": [
    "# # Initialize the one-hot encoder\n",
    "# enc = OneHotEncoder()\n",
    "\n",
    "# # Fit the encoder to the categorical column\n",
    "# enc.fit(df2[['future_opponent']])\n",
    "\n",
    "# # Transform the categorical column into one-hot encoded columns\n",
    "# one_hot_cols = enc.transform(df2[['future_opponent']])\n",
    "\n",
    "# # Add the new columns to the dataframe\n",
    "# df2 = pd.concat([df2, pd.DataFrame(one_hot_cols.toarray())], axis=1)\n",
    "\n",
    "# df2 = df2.drop(['future_opponent'], axis = 1)"
   ]
  },
  {
   "cell_type": "code",
   "execution_count": 17,
   "id": "0766b07b",
   "metadata": {},
   "outputs": [],
   "source": [
    "# # Initialize the one-hot encoder\n",
    "# enc = OneHotEncoder()\n",
    "\n",
    "# # Fit the encoder to the categorical column\n",
    "# enc.fit(df2[['day_of_week']])\n",
    "\n",
    "# # Transform the categorical column into one-hot encoded columns\n",
    "# one_hot_cols = enc.transform(df2[['day_of_week']])\n",
    "\n",
    "# # Add the new columns to the dataframe\n",
    "# df2 = pd.concat([df2, pd.DataFrame(one_hot_cols.toarray())], axis=1)\n",
    "\n",
    "# df2 = df2.drop(['day_of_week'], axis = 1)"
   ]
  },
  {
   "cell_type": "code",
   "execution_count": 18,
   "id": "64c55cfc",
   "metadata": {},
   "outputs": [
    {
     "data": {
      "text/html": [
       "<div>\n",
       "<style scoped>\n",
       "    .dataframe tbody tr th:only-of-type {\n",
       "        vertical-align: middle;\n",
       "    }\n",
       "\n",
       "    .dataframe tbody tr th {\n",
       "        vertical-align: top;\n",
       "    }\n",
       "\n",
       "    .dataframe thead th {\n",
       "        text-align: right;\n",
       "    }\n",
       "</style>\n",
       "<table border=\"1\" class=\"dataframe\">\n",
       "  <thead>\n",
       "    <tr style=\"text-align: right;\">\n",
       "      <th></th>\n",
       "      <th>year</th>\n",
       "      <th>season_week</th>\n",
       "      <th>winning_percentage_going_in</th>\n",
       "      <th>opponent_winning_percentage_going_in</th>\n",
       "      <th>game_result</th>\n",
       "      <th>confidence_2weeks_before_game</th>\n",
       "      <th>confidence_value_week_before</th>\n",
       "      <th>confidence_value</th>\n",
       "    </tr>\n",
       "  </thead>\n",
       "  <tbody>\n",
       "    <tr>\n",
       "      <th>0</th>\n",
       "      <td>2021</td>\n",
       "      <td>16</td>\n",
       "      <td>0</td>\n",
       "      <td>1</td>\n",
       "      <td>2</td>\n",
       "      <td>0.5</td>\n",
       "      <td>-100</td>\n",
       "      <td>-100</td>\n",
       "    </tr>\n",
       "  </tbody>\n",
       "</table>\n",
       "</div>"
      ],
      "text/plain": [
       "   year  season_week  winning_percentage_going_in  \\\n",
       "0  2021           16                            0   \n",
       "\n",
       "   opponent_winning_percentage_going_in  game_result  \\\n",
       "0                                     1            2   \n",
       "\n",
       "   confidence_2weeks_before_game  confidence_value_week_before  \\\n",
       "0                            0.5                          -100   \n",
       "\n",
       "   confidence_value  \n",
       "0              -100  "
      ]
     },
     "execution_count": 18,
     "metadata": {},
     "output_type": "execute_result"
    }
   ],
   "source": [
    "df2"
   ]
  },
  {
   "cell_type": "code",
   "execution_count": 19,
   "id": "e179665e",
   "metadata": {},
   "outputs": [
    {
     "name": "stdout",
     "output_type": "stream",
     "text": [
      "[[0. 1.]]\n"
     ]
    }
   ],
   "source": [
    "# Get the predicted probability of the dependent variable being equal to 1\n",
    "predicted_proba = log_reg.predict_proba(df2)\n",
    "\n",
    "# Print the predicted probability\n",
    "print(predicted_proba)"
   ]
  },
  {
   "cell_type": "code",
   "execution_count": null,
   "id": "e122e33c",
   "metadata": {},
   "outputs": [],
   "source": []
  }
 ],
 "metadata": {
  "kernelspec": {
   "display_name": "Python 3 (ipykernel)",
   "language": "python",
   "name": "python3"
  },
  "language_info": {
   "codemirror_mode": {
    "name": "ipython",
    "version": 3
   },
   "file_extension": ".py",
   "mimetype": "text/x-python",
   "name": "python",
   "nbconvert_exporter": "python",
   "pygments_lexer": "ipython3",
   "version": "3.9.12"
  }
 },
 "nbformat": 4,
 "nbformat_minor": 5
}
